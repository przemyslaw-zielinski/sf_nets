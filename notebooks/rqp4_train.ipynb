{
 "cells": [
  {
   "cell_type": "code",
   "execution_count": 1,
   "metadata": {},
   "outputs": [],
   "source": [
    "import torch\n",
    "import torch.optim as optim\n",
    "import numpy as np\n",
    "from importlib import reload"
   ]
  },
  {
   "cell_type": "code",
   "execution_count": 2,
   "metadata": {},
   "outputs": [],
   "source": [
    "import matplotlib as mpl\n",
    "import matplotlib.pyplot as plt\n",
    "from matplotlib.gridspec import GridSpec"
   ]
  },
  {
   "cell_type": "code",
   "execution_count": 3,
   "metadata": {},
   "outputs": [
    {
     "name": "stdout",
     "output_type": "stream",
     "text": [
      "sys.executable = '/Users/pzielinski/opt/anaconda3/envs/sf_nets/bin/python'\n"
     ]
    }
   ],
   "source": [
    "# custom libraries\n",
    "import sys, os\n",
    "print(f\"{sys.executable = }\")\n",
    "sys.path.append(os.path.abspath('../'))\n",
    "sys.path.append(os.path.abspath('../../spaths'))\n",
    "import spaths\n",
    "from sf_nets import datasets\n",
    "from src import systems, nets, training"
   ]
  },
  {
   "cell_type": "markdown",
   "metadata": {},
   "source": [
    "## Load simulation data & solver"
   ]
  },
  {
   "cell_type": "code",
   "execution_count": 4,
   "metadata": {},
   "outputs": [
    {
     "data": {
      "text/plain": [
       "dict_keys(['seed', 'solver', 'dt', 'x0', 'tspan'])"
      ]
     },
     "execution_count": 4,
     "metadata": {},
     "output_type": "execute_result"
    }
   ],
   "source": [
    "simdat = torch.load(\"../data/rqp4_old/simdat.pt\")\n",
    "simdat.keys()"
   ]
  },
  {
   "cell_type": "code",
   "execution_count": 5,
   "metadata": {},
   "outputs": [],
   "source": [
    "# corresponding system\n",
    "rqp4_sde = systems.rqp4_sde\n",
    "rqp4_dat = systems.rqp4_dat\n",
    "# sde_rqp4 = spaths.ItoSDE(rqp4['drift'], rqp4['dispersion'], noise_mixing_dim=rqp4['nmd'])"
   ]
  },
  {
   "cell_type": "markdown",
   "metadata": {},
   "source": [
    "## Train"
   ]
  },
  {
   "cell_type": "code",
   "execution_count": 6,
   "metadata": {},
   "outputs": [],
   "source": [
    "model_id = 'simple_7'"
   ]
  },
  {
   "cell_type": "code",
   "execution_count": 7,
   "metadata": {},
   "outputs": [],
   "source": [
    "train_ds = datasets.RQP4(root=\"../data/\")"
   ]
  },
  {
   "cell_type": "code",
   "execution_count": 8,
   "metadata": {},
   "outputs": [
    {
     "data": {
      "text/plain": [
       "(tensor([ 0.2896, -0.1219, -0.1329, -0.6876]),\n",
       " tensor([[ 4.0528e-01, -3.8182e-03, -2.5143e-03, -8.7549e-03],\n",
       "         [-3.8182e-03,  9.8282e-01,  6.3884e-01,  2.3917e+00],\n",
       "         [-2.5143e-03,  6.3884e-01,  1.1035e+00,  2.6550e+00],\n",
       "         [-8.7549e-03,  2.3917e+00,  2.6550e+00,  9.9840e+00]]))"
      ]
     },
     "execution_count": 8,
     "metadata": {},
     "output_type": "execute_result"
    }
   ],
   "source": [
    "train_ds[0]"
   ]
  },
  {
   "cell_type": "code",
   "execution_count": 50,
   "metadata": {},
   "outputs": [],
   "source": [
    "train_size = 4000\n",
    "valid_size = 1300\n",
    "\n",
    "train_dataset = torch.utils.data.Subset(torch.load(\"../data/rqp4/train.pt\"), list(range(train_size)))\n",
    "valid_dataset = torch.utils.data.Subset(torch.load(\"../data/rqp4/valid.pt\"), list(range(valid_size)))"
   ]
  },
  {
   "cell_type": "code",
   "execution_count": 57,
   "metadata": {},
   "outputs": [],
   "source": [
    "batch_size = 16\n",
    "max_epochs = 200\n",
    "learning_rate = 1e-3"
   ]
  },
  {
   "cell_type": "code",
   "execution_count": 58,
   "metadata": {},
   "outputs": [],
   "source": [
    "params = {\n",
    "    'model_id': model_id,\n",
    "    'batch_size': batch_size,\n",
    "    'max_epochs': max_epochs,\n",
    "    'burst_size': 10**4,\n",
    "    'system': rqp4_dat['name'],\n",
    "    'sde': rqp4_sde,\n",
    "    'solver': simdat['solver'],\n",
    "    'burst_dt': simdat['dt'],\n",
    "    'train_nsam': train_size,\n",
    "    'valid_nsam': valid_size,\n",
    "    'learning_rate': learning_rate\n",
    "}"
   ]
  },
  {
   "cell_type": "code",
   "execution_count": 59,
   "metadata": {},
   "outputs": [],
   "source": [
    "net_arch = {\n",
    "    'in_features': rqp4_dat['ndim'],\n",
    "    'latent_features': rqp4_dat['sdim'],\n",
    "    'hidden_dimensions': [8, 4]\n",
    "}\n",
    "params['net_arch'] = net_arch"
   ]
  },
  {
   "cell_type": "code",
   "execution_count": 60,
   "metadata": {},
   "outputs": [],
   "source": [
    "simple = training.Simple(params)"
   ]
  },
  {
   "cell_type": "code",
   "execution_count": 61,
   "metadata": {},
   "outputs": [
    {
     "name": "stdout",
     "output_type": "stream",
     "text": [
      "epoch :   1/200, reconstruction loss = 1.89668, validation loss = 1.98741\n",
      "epoch :  10/200, reconstruction loss = 1.14960, validation loss = 1.24190\n",
      "epoch :  20/200, reconstruction loss = 1.10413, validation loss = 1.22341\n",
      "epoch :  30/200, reconstruction loss = 1.08264, validation loss = 1.18597\n",
      "epoch :  40/200, reconstruction loss = 1.06695, validation loss = 1.12815\n",
      "epoch :  50/200, reconstruction loss = 1.02915, validation loss = 1.10361\n",
      "epoch :  60/200, reconstruction loss = 0.97206, validation loss = 0.99467\n",
      "epoch :  70/200, reconstruction loss = 0.93838, validation loss = 1.01775\n",
      "epoch :  80/200, reconstruction loss = 0.91424, validation loss = 0.94544\n",
      "epoch :  90/200, reconstruction loss = 0.89311, validation loss = 0.91199\n",
      "epoch : 100/200, reconstruction loss = 0.87983, validation loss = 0.91611\n",
      "epoch : 110/200, reconstruction loss = 0.87482, validation loss = 0.88941\n",
      "epoch : 120/200, reconstruction loss = 0.87067, validation loss = 0.90268\n",
      "epoch : 130/200, reconstruction loss = 0.86717, validation loss = 0.95096\n",
      "epoch : 140/200, reconstruction loss = 0.86172, validation loss = 0.89642\n",
      "epoch : 150/200, reconstruction loss = 0.86073, validation loss = 0.89616\n",
      "epoch : 160/200, reconstruction loss = 0.85865, validation loss = 0.89421\n",
      "epoch : 170/200, reconstruction loss = 0.85915, validation loss = 0.89302\n",
      "epoch : 180/200, reconstruction loss = 0.85851, validation loss = 0.92313\n",
      "epoch : 190/200, reconstruction loss = 0.85233, validation loss = 0.88717\n",
      "epoch : 200/200, reconstruction loss = 0.84334, validation loss = 0.87831\n"
     ]
    }
   ],
   "source": [
    "simple.train(train_dataset, valid_dataset)"
   ]
  },
  {
   "cell_type": "code",
   "execution_count": null,
   "metadata": {},
   "outputs": [],
   "source": []
  }
 ],
 "metadata": {
  "kernelspec": {
   "display_name": "Python 3",
   "language": "python",
   "name": "python3"
  },
  "language_info": {
   "codemirror_mode": {
    "name": "ipython",
    "version": 3
   },
   "file_extension": ".py",
   "mimetype": "text/x-python",
   "name": "python",
   "nbconvert_exporter": "python",
   "pygments_lexer": "ipython3",
   "version": "3.8.2"
  }
 },
 "nbformat": 4,
 "nbformat_minor": 4
}
