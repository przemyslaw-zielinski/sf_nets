{
 "cells": [
  {
   "cell_type": "code",
   "execution_count": 1,
   "metadata": {},
   "outputs": [],
   "source": [
    "# imports\n",
    "import torch\n",
    "import json\n",
    "import numpy as np\n",
    "import pandas as pd\n",
    "import torch.nn as nn\n",
    "from pathlib import Path"
   ]
  },
  {
   "cell_type": "code",
   "execution_count": 2,
   "metadata": {},
   "outputs": [],
   "source": [
    "import matplotlib as mpl\n",
    "import matplotlib.pyplot as plt\n",
    "# from matplotlib.gridspec import GridSpec\n",
    "\n",
    "# figure aesthetics\n",
    "# plt.style.use(['dark_background','seaborn-notebook'])  # for dark themes\n",
    "plt.style.use([\"../utils/dark.mplstyle\",\"../utils/notebook.mplstyle\"])\n",
    "# plt.style.use(['seaborn-notebook'])"
   ]
  },
  {
   "cell_type": "code",
   "execution_count": 3,
   "metadata": {},
   "outputs": [
    {
     "name": "stderr",
     "output_type": "stream",
     "text": [
      "WARNING:absl:No GPU/TPU found, falling back to CPU. (Set TF_CPP_MIN_LOG_LEVEL=0 and rerun for more info.)\n"
     ]
    }
   ],
   "source": [
    "root = Path('..')\n",
    "\n",
    "# custom libraries\n",
    "import sys, os\n",
    "sys.path.append(os.path.abspath('../'))\n",
    "# print(f\"{sys.executable = }\")\n",
    "\n",
    "from utils import spaths, dmaps\n",
    "import sf_nets.models as models\n",
    "import sf_nets.datasets as datasets\n",
    "from utils.mpl_utils import coord_grid"
   ]
  },
  {
   "cell_type": "code",
   "execution_count": 4,
   "metadata": {},
   "outputs": [],
   "source": [
    "# datasets directory\n",
    "ds_path = root / 'data'"
   ]
  },
  {
   "cell_type": "code",
   "execution_count": 5,
   "metadata": {},
   "outputs": [
    {
     "name": "stdout",
     "output_type": "stream",
     "text": [
      "Available datasets : ['Sin2', 'Quad4', 'RQP4', 'LogSin2']\n"
     ]
    }
   ],
   "source": [
    "print(f\"Available datasets : {[ds.stem for ds in ds_path.iterdir() if ds.is_dir()]}\")"
   ]
  },
  {
   "cell_type": "markdown",
   "metadata": {},
   "source": [
    "# Choose dataset"
   ]
  },
  {
   "cell_type": "code",
   "execution_count": 6,
   "metadata": {},
   "outputs": [],
   "source": [
    "name_ds = 'Quad4'"
   ]
  },
  {
   "cell_type": "code",
   "execution_count": 7,
   "metadata": {
    "jupyter": {
     "source_hidden": true
    }
   },
   "outputs": [],
   "source": [
    "data_path = root / 'data' / name_ds\n",
    "model_path = root / 'results' / 'models' / name_ds.lower()"
   ]
  },
  {
   "cell_type": "code",
   "execution_count": 8,
   "metadata": {
    "jupyter": {
     "source_hidden": true
    }
   },
   "outputs": [
    {
     "name": "stdout",
     "output_type": "stream",
     "text": [
      "Size of training sample: 2010\n",
      "Size of testing sample: 991\n"
     ]
    }
   ],
   "source": [
    "dataset = getattr(datasets, name_ds)\n",
    "train_ds = dataset(root / 'data')\n",
    "test_ds = dataset(root / 'data', train=False)\n",
    "print(f\"Size of training sample: {len(train_ds)}\")\n",
    "print(f\"Size of testing sample: {len(test_ds)}\")"
   ]
  },
  {
   "cell_type": "markdown",
   "metadata": {},
   "source": [
    "# Trained models"
   ]
  },
  {
   "cell_type": "code",
   "execution_count": 9,
   "metadata": {},
   "outputs": [],
   "source": [
    "model_types = ['mah']"
   ]
  },
  {
   "cell_type": "code",
   "execution_count": 11,
   "metadata": {
    "jupyter": {
     "source_hidden": true
    }
   },
   "outputs": [
    {
     "data": {
      "text/html": [
       "<style  type=\"text/css\" >\n",
       "#T_fcc923f2_3baa_11eb_8abe_804a145f2bcfrow0_col0,#T_fcc923f2_3baa_11eb_8abe_804a145f2bcfrow0_col1,#T_fcc923f2_3baa_11eb_8abe_804a145f2bcfrow0_col2,#T_fcc923f2_3baa_11eb_8abe_804a145f2bcfrow0_col3,#T_fcc923f2_3baa_11eb_8abe_804a145f2bcfrow1_col0,#T_fcc923f2_3baa_11eb_8abe_804a145f2bcfrow1_col1,#T_fcc923f2_3baa_11eb_8abe_804a145f2bcfrow1_col2,#T_fcc923f2_3baa_11eb_8abe_804a145f2bcfrow1_col3,#T_fcc923f2_3baa_11eb_8abe_804a145f2bcfrow2_col0,#T_fcc923f2_3baa_11eb_8abe_804a145f2bcfrow2_col1,#T_fcc923f2_3baa_11eb_8abe_804a145f2bcfrow2_col2,#T_fcc923f2_3baa_11eb_8abe_804a145f2bcfrow2_col3{\n",
       "            font-size:  12pt;\n",
       "        }</style><table id=\"T_fcc923f2_3baa_11eb_8abe_804a145f2bcf\" ><thead>    <tr>        <th class=\"blank level0\" ></th>        <th class=\"col_heading level0 col0\" >max_epochs</th>        <th class=\"col_heading level0 col1\" >features</th>        <th class=\"col_heading level0 col2\" >best_epoch</th>        <th class=\"col_heading level0 col3\" >valid_loss</th>    </tr>    <tr>        <th class=\"index_name level0\" >model_id</th>        <th class=\"blank\" ></th>        <th class=\"blank\" ></th>        <th class=\"blank\" ></th>        <th class=\"blank\" ></th>    </tr></thead><tbody>\n",
       "                <tr>\n",
       "                        <th id=\"T_fcc923f2_3baa_11eb_8abe_804a145f2bcflevel0_row0\" class=\"row_heading level0 row0\" >mah_elu_0</th>\n",
       "                        <td id=\"T_fcc923f2_3baa_11eb_8abe_804a145f2bcfrow0_col0\" class=\"data row0 col0\" >3000</td>\n",
       "                        <td id=\"T_fcc923f2_3baa_11eb_8abe_804a145f2bcfrow0_col1\" class=\"data row0 col1\" >[4, 8, 1, 8, 4]</td>\n",
       "                        <td id=\"T_fcc923f2_3baa_11eb_8abe_804a145f2bcfrow0_col2\" class=\"data row0 col2\" >2577</td>\n",
       "                        <td id=\"T_fcc923f2_3baa_11eb_8abe_804a145f2bcfrow0_col3\" class=\"data row0 col3\" >0.64</td>\n",
       "            </tr>\n",
       "            <tr>\n",
       "                        <th id=\"T_fcc923f2_3baa_11eb_8abe_804a145f2bcflevel0_row1\" class=\"row_heading level0 row1\" >mahl1_elu_0</th>\n",
       "                        <td id=\"T_fcc923f2_3baa_11eb_8abe_804a145f2bcfrow1_col0\" class=\"data row1 col0\" >3000</td>\n",
       "                        <td id=\"T_fcc923f2_3baa_11eb_8abe_804a145f2bcfrow1_col1\" class=\"data row1 col1\" >[4, 8, 1, 8, 4]</td>\n",
       "                        <td id=\"T_fcc923f2_3baa_11eb_8abe_804a145f2bcfrow1_col2\" class=\"data row1 col2\" >1281</td>\n",
       "                        <td id=\"T_fcc923f2_3baa_11eb_8abe_804a145f2bcfrow1_col3\" class=\"data row1 col3\" >0.39</td>\n",
       "            </tr>\n",
       "            <tr>\n",
       "                        <th id=\"T_fcc923f2_3baa_11eb_8abe_804a145f2bcflevel0_row2\" class=\"row_heading level0 row2\" >mahl1_elu_1</th>\n",
       "                        <td id=\"T_fcc923f2_3baa_11eb_8abe_804a145f2bcfrow2_col0\" class=\"data row2 col0\" >4000</td>\n",
       "                        <td id=\"T_fcc923f2_3baa_11eb_8abe_804a145f2bcfrow2_col1\" class=\"data row2 col1\" >[4, 16, 1, 16, 4]</td>\n",
       "                        <td id=\"T_fcc923f2_3baa_11eb_8abe_804a145f2bcfrow2_col2\" class=\"data row2 col2\" >3824</td>\n",
       "                        <td id=\"T_fcc923f2_3baa_11eb_8abe_804a145f2bcfrow2_col3\" class=\"data row2 col3\" >0.27</td>\n",
       "            </tr>\n",
       "    </tbody></table>"
      ],
      "text/plain": [
       "<pandas.io.formats.style.Styler at 0x7f931ea1a4f0>"
      ]
     },
     "execution_count": 11,
     "metadata": {},
     "output_type": "execute_result"
    }
   ],
   "source": [
    "series_list = []\n",
    "for file in os.listdir(model_path):\n",
    "    fpath = Path(file)\n",
    "    if fpath.suffix == '.pt' and any(mt in fpath.stem for mt in model_types):\n",
    "        model_data = torch.load(model_path / fpath.name)\n",
    "        par_dict = {\n",
    "            key:val\n",
    "            for key, val in model_data['info']['config'].items()\n",
    "            if key in {'max_epochs'}\n",
    "        }\n",
    "#         par_dict['layers (i,l,[h])'] = model_data['state']['best_model_dict'].keys()\n",
    "#         par_dict['train_size'] = model_data['info']['config']['loader']['train_size']\n",
    "#         par_dict['valid_size'] = model_data['info']['config']['loader']['valid_size']\n",
    "        par_dict['features'] = model_data['info'].get('features', [])\n",
    "        pruning = model_data['info']['config'].get('pruning')\n",
    "#         par_dict['sparsity'] = model_data['best']['sparsity'] if pruning else 0.0\n",
    "        best_epoch_idx = model_data['best']['epoch']-1\n",
    "        par_dict['best_epoch'] = best_epoch_idx\n",
    "        par_dict['valid_loss'] = model_data['history']['valid_losses'][best_epoch_idx]\n",
    "        par_dict['model_id'] = fpath.stem\n",
    "        series_list.append(par_dict)\n",
    "models_df = pd.DataFrame(series_list)\n",
    "# models_df.set_index('model_id').sort_values(by='model_id')\n",
    "(\n",
    "models_df.set_index('model_id')\n",
    "         .sort_values(by='model_id')\n",
    "         .style.format({\n",
    "             'sparsity': '{0:.0%}',\n",
    "             'valid_loss': '{:.2}',\n",
    "             'features': lambda x: \"{:}\".format(list(x)),  # TODO: format with dashes\n",
    "             'burst_dt': '{:.0e}',\n",
    "             'burst_size': '{:.0e}'\n",
    "         })\n",
    "         .set_properties(**{'font-size': '12pt',})\n",
    ")"
   ]
  },
  {
   "cell_type": "markdown",
   "metadata": {},
   "source": [
    "## Loss"
   ]
  },
  {
   "cell_type": "code",
   "execution_count": 12,
   "metadata": {},
   "outputs": [],
   "source": [
    "model_id = 'mahl1_elu_1'"
   ]
  },
  {
   "cell_type": "code",
   "execution_count": 13,
   "metadata": {},
   "outputs": [
    {
     "name": "stdout",
     "output_type": "stream",
     "text": [
      "model_data.keys() = dict_keys(['id', 'info', 'best', 'history'])\n"
     ]
    }
   ],
   "source": [
    "model_data = torch.load(model_path / f'{model_id}.pt')\n",
    "print(f'{model_data.keys() = }')"
   ]
  },
  {
   "cell_type": "code",
   "execution_count": 14,
   "metadata": {},
   "outputs": [],
   "source": [
    "train_losses = model_data['history']['train_losses']\n",
    "valid_losses = model_data['history']['valid_losses']\n",
    "checkpoints = model_data['history']['checkpoints']\n",
    "epochs = range(1, model_data['info']['config']['max_epochs']+1)\n",
    "best_epoch = model_data['best']['epoch']"
   ]
  },
  {
   "cell_type": "code",
   "execution_count": 15,
   "metadata": {},
   "outputs": [
    {
     "data": {
      "image/png": "[encoded data removed]",
      "text/plain": [
       "<Figure size 1100x550 with 1 Axes>"
      ]
     },
     "metadata": {},
     "output_type": "display_data"
    }
   ],
   "source": [
    "fig, ax = plt.subplots(figsize=(11,5.5))\n",
    "\n",
    "ax.plot(epochs, train_losses, label=\"train loss\")\n",
    "loss_line, = ax.plot(epochs, valid_losses, label=\"validation loss\")\n",
    "loss_color = loss_line.get_color()\n",
    "\n",
    "# regular checkpoints\n",
    "check_ids = [check_id for check_id, check_type in checkpoints if check_type != 'best']\n",
    "check_loss = [valid_losses[idx-1] for idx in check_ids]\n",
    "plt.vlines(x=check_ids, ymin=0, ymax=check_loss, ls='--', color=loss_color, alpha=0.5, label='checkpoints')\n",
    "\n",
    "# smallest validation loss / \"best\" model\n",
    "smallest_loss = valid_losses[best_epoch-1]\n",
    "plt.vlines(x=best_epoch, ymin=0, ymax=smallest_loss, color='g')\n",
    "ax.plot(best_epoch, smallest_loss, 'o', color='g', label='validation min', markersize=3)\n",
    "\n",
    "ax.text(best_epoch+2, .9*smallest_loss, f'{best_epoch}', rotation=0, color='g', bbox={'fc': 'w', 'ec':'None', 'boxstyle':'Square, pad=0.1'})\n",
    "\n",
    "ax.set_xlim([epochs[0], epochs[-1]+1])\n",
    "# ax.set_ylim([0.0, train_losses[1]])\n",
    "ax.set_xticks(check_ids)\n",
    "ax.set_xlabel(\"epoch\")\n",
    "ax.set_ylabel(\"loss\", rotation=0, labelpad=10)\n",
    "ax.set_yscale('log')\n",
    "ax.legend()\n",
    "\n",
    "fig.tight_layout()\n",
    "fig.savefig(root / f\"results/figs/{model_id}_loss.pdf\", dpi=300)\n",
    "plt.show(fig)\n",
    "plt.close(fig)"
   ]
  },
  {
   "cell_type": "markdown",
   "metadata": {},
   "source": [
    "## Load Model"
   ]
  },
  {
   "cell_type": "code",
   "execution_count": 45,
   "metadata": {},
   "outputs": [
    {
     "data": {
      "text/plain": [
       "MahalanobisAutoencoder(\n",
       "  (encoder): Sequential(\n",
       "    (layer1): Linear(in_features=4, out_features=8, bias=True)\n",
       "    (activation1): ELU(alpha=1.0)\n",
       "    (layer2): Linear(in_features=8, out_features=1, bias=True)\n",
       "  )\n",
       "  (decoder): Sequential(\n",
       "    (layer1): Linear(in_features=1, out_features=8, bias=True)\n",
       "    (activation1): ELU(alpha=1.0)\n",
       "    (layer2): Linear(in_features=8, out_features=4, bias=True)\n",
       "  )\n",
       "  (mah_loss): MahalanobisLoss()\n",
       "  (proj_loss): L1Loss()\n",
       ")"
      ]
     },
     "execution_count": 45,
     "metadata": {},
     "output_type": "execute_result"
    }
   ],
   "source": [
    "model = getattr(models, model_data['info']['architecture'])(**model_data['info']['arguments'])\n",
    "model"
   ]
  },
  {
   "cell_type": "code",
   "execution_count": 46,
   "metadata": {},
   "outputs": [],
   "source": [
    "def remove_mask(model_dict):\n",
    "    mask_state_dict = dict(filter(lambda elem: elem[0].endswith('_mask'), model_dict.items()))\n",
    "    orig_state_dict = dict(filter(lambda elem: elem[0].endswith('_orig'), model_dict.items()))\n",
    "    rest = dict(filter(lambda elem: elem[0].endswith(('weight', 'bias')), model_dict.items()))\n",
    "    state_dict = {\n",
    "        key.replace('_orig',''): val_orig * val_mask\n",
    "        for (key, val_orig), val_mask in zip(orig_state_dict.items(), mask_state_dict.values())\n",
    "    }\n",
    "    return {**state_dict, **rest}"
   ]
  },
  {
   "cell_type": "code",
   "execution_count": 47,
   "metadata": {},
   "outputs": [],
   "source": [
    "check_epoch = 'best'"
   ]
  },
  {
   "cell_type": "code",
   "execution_count": 48,
   "metadata": {},
   "outputs": [],
   "source": [
    "if check_epoch == 'best':\n",
    "    state_dict = remove_mask(model_data['best']['model_dict'])\n",
    "#     state_dict = model_data['best']['model_dict']\n",
    "    check_epoch = best_epoch\n",
    "else:\n",
    "    check_dict = torch.load(model_path / f'{model_id}' / f'state_at_{check_epoch}.pt')\n",
    "    state_dict = remove_mask(check_dict['model_dict'])"
   ]
  },
  {
   "cell_type": "code",
   "execution_count": 49,
   "metadata": {},
   "outputs": [
    {
     "data": {
      "text/plain": [
       "<All keys matched successfully>"
      ]
     },
     "execution_count": 49,
     "metadata": {},
     "output_type": "execute_result"
    }
   ],
   "source": [
    "model.load_state_dict(state_dict)"
   ]
  },
  {
   "cell_type": "code",
   "execution_count": 50,
   "metadata": {},
   "outputs": [],
   "source": [
    "model.eval();"
   ]
  },
  {
   "cell_type": "markdown",
   "metadata": {},
   "source": [
    "## Reconstruction visualization"
   ]
  },
  {
   "cell_type": "code",
   "execution_count": 51,
   "metadata": {},
   "outputs": [],
   "source": [
    "rec_train_data = model(train_ds.data)\n",
    "train_data_np = train_ds.data.detach().numpy()\n",
    "rec_train_data_np = rec_train_data.detach().numpy()"
   ]
  },
  {
   "cell_type": "code",
   "execution_count": 52,
   "metadata": {},
   "outputs": [
    {
     "data": {
      "image/png": "[encoded data removed]",
      "text/plain": [
       "<Figure size 1000x1000 with 12 Axes>"
      ]
     },
     "metadata": {},
     "output_type": "display_data"
    }
   ],
   "source": [
    "fig = plt.figure(figsize=(10,10))\n",
    "\n",
    "coord_grid(fig, train_data_np, xylim=[-3.1, 5.1])\n",
    "coord_grid(fig, rec_train_data_np, xylim=[-3.1, 5.1])\n",
    "\n",
    "plt.show(fig)\n",
    "plt.close(fig)"
   ]
  },
  {
   "cell_type": "code",
   "execution_count": 53,
   "metadata": {},
   "outputs": [
    {
     "name": "stderr",
     "output_type": "stream",
     "text": [
      "/Users/pzielinski/opt/anaconda3/envs/py38/lib/python3.8/site-packages/matplotlib/collections.py:922: RuntimeWarning: invalid value encountered in sqrt\n",
      "  scale = np.sqrt(self._sizes) * dpi / 72.0 * self._factor\n"
     ]
    },
    {
     "data": {
      "image/png": "[encoded data removed]",
      "text/plain": [
       "<Figure size 700x500 with 1 Axes>"
      ]
     },
     "metadata": {},
     "output_type": "display_data"
    }
   ],
   "source": [
    "plt.scatter(*train_data_np.T)\n",
    "plt.scatter(*rec_train_data_np.T);"
   ]
  },
  {
   "cell_type": "markdown",
   "metadata": {},
   "source": [
    "## Encoder accuracy"
   ]
  },
  {
   "cell_type": "code",
   "execution_count": 54,
   "metadata": {},
   "outputs": [
    {
     "data": {
      "text/plain": [
       "991"
      ]
     },
     "execution_count": 54,
     "metadata": {},
     "output_type": "execute_result"
    }
   ],
   "source": [
    "test_ds = dataset(root / 'data', train=False)\n",
    "test_data_np = test_ds.data.detach().numpy()\n",
    "len(test_ds)"
   ]
  },
  {
   "cell_type": "code",
   "execution_count": 55,
   "metadata": {},
   "outputs": [],
   "source": [
    "# plt.scatter(*test_data_np.T, s=3);"
   ]
  },
  {
   "cell_type": "code",
   "execution_count": 57,
   "metadata": {},
   "outputs": [],
   "source": [
    "dt = train_ds.dt\n",
    "try:\n",
    "    sde = train_ds.system.sde\n",
    "except AttributeError:\n",
    "    sde = train_ds.system\n",
    "slow_map = train_ds.system.slow_map"
   ]
  },
  {
   "cell_type": "code",
   "execution_count": 58,
   "metadata": {},
   "outputs": [
    {
     "data": {
      "image/png": "[encoded data removed]",
      "text/plain": [
       "<Figure size 900x500 with 2 Axes>"
      ]
     },
     "metadata": {},
     "output_type": "display_data"
    }
   ],
   "source": [
    "fig, axs = plt.subplots(ncols=2, figsize=(9,5), sharey=True)\n",
    "\n",
    "train_test_data = [train_ds.data, test_ds.data]\n",
    "for ax, data, title in zip(axs, train_test_data, ['Training set', 'Test set']):\n",
    "    slow_var = slow_map(data.detach().numpy().T)\n",
    "    lat_var = model.encoder(data).detach().numpy()\n",
    "    try:\n",
    "        ax.scatter(slow_var, lat_var.T)\n",
    "    except ValueError:\n",
    "        print('Latent layer too large.')\n",
    "        plt.close(fig)\n",
    "    \n",
    "    ax.set_title(f'{title}')\n",
    "    ax.set_xlabel('slow variable')\n",
    "axs[0].set_ylabel('latent variable', labelpad=0)\n",
    "\n",
    "fig.tight_layout()\n",
    "\n",
    "fig.suptitle(f'Performance at epoch: {check_epoch}', size=15)\n",
    "fig.subplots_adjust(top=0.85)\n",
    "fig.savefig(root / f\"results/figs/{model_id}_slowvar.pdf\", dpi=300)\n",
    "plt.show(fig)\n",
    "plt.close(fig)"
   ]
  },
  {
   "cell_type": "code",
   "execution_count": 59,
   "metadata": {},
   "outputs": [],
   "source": [
    "# seed setting and solver\n",
    "seed = 3579\n",
    "rng = np.random.default_rng(seed)\n",
    "rng.integers(10**3);  # warm up of RNG\n",
    "\n",
    "# stochastic solver\n",
    "em = spaths.EulerMaruyama(rng)"
   ]
  },
  {
   "cell_type": "code",
   "execution_count": 60,
   "metadata": {},
   "outputs": [],
   "source": [
    "start = test_data_np[1000:1002]\n",
    "tspan = (0, 1)\n",
    "\n",
    "test_sol = em.solve(sde, start, tspan, dt)"
   ]
  },
  {
   "cell_type": "code",
   "execution_count": 61,
   "metadata": {},
   "outputs": [
    {
     "ename": "IndexError",
     "evalue": "index 0 is out of bounds for axis 0 with size 0",
     "output_type": "error",
     "traceback": [
      "\u001b[0;31m---------------------------------------------------------------------------\u001b[0m",
      "\u001b[0;31mIndexError\u001b[0m                                Traceback (most recent call last)",
      "\u001b[0;32m<ipython-input-61-07b3f42ec931>\u001b[0m in \u001b[0;36m<module>\u001b[0;34m\u001b[0m\n\u001b[0;32m----> 1\u001b[0;31m \u001b[0mtest_path\u001b[0m \u001b[0;34m=\u001b[0m \u001b[0mtest_sol\u001b[0m\u001b[0;34m.\u001b[0m\u001b[0mp\u001b[0m\u001b[0;34m[\u001b[0m\u001b[0;36m0\u001b[0m\u001b[0;34m]\u001b[0m\u001b[0;34m.\u001b[0m\u001b[0mT\u001b[0m\u001b[0;34m\u001b[0m\u001b[0;34m\u001b[0m\u001b[0m\n\u001b[0m\u001b[1;32m      2\u001b[0m \u001b[0mt\u001b[0m \u001b[0;34m=\u001b[0m \u001b[0mnp\u001b[0m\u001b[0;34m.\u001b[0m\u001b[0mlinspace\u001b[0m\u001b[0;34m(\u001b[0m\u001b[0;34m*\u001b[0m\u001b[0mtspan\u001b[0m\u001b[0;34m,\u001b[0m \u001b[0mlen\u001b[0m\u001b[0;34m(\u001b[0m\u001b[0mtest_path\u001b[0m\u001b[0;34m.\u001b[0m\u001b[0mT\u001b[0m\u001b[0;34m)\u001b[0m\u001b[0;34m)\u001b[0m\u001b[0;34m\u001b[0m\u001b[0;34m\u001b[0m\u001b[0m\n\u001b[1;32m      3\u001b[0m \u001b[0;34m\u001b[0m\u001b[0m\n\u001b[1;32m      4\u001b[0m \u001b[0mfig\u001b[0m\u001b[0;34m,\u001b[0m \u001b[0maxs\u001b[0m \u001b[0;34m=\u001b[0m \u001b[0mplt\u001b[0m\u001b[0;34m.\u001b[0m\u001b[0msubplots\u001b[0m\u001b[0;34m(\u001b[0m\u001b[0mncols\u001b[0m\u001b[0;34m=\u001b[0m\u001b[0;36m2\u001b[0m\u001b[0;34m,\u001b[0m \u001b[0mnrows\u001b[0m\u001b[0;34m=\u001b[0m\u001b[0;36m2\u001b[0m\u001b[0;34m,\u001b[0m \u001b[0msharex\u001b[0m\u001b[0;34m=\u001b[0m\u001b[0;32mTrue\u001b[0m\u001b[0;34m)\u001b[0m\u001b[0;34m\u001b[0m\u001b[0;34m\u001b[0m\u001b[0m\n\u001b[1;32m      5\u001b[0m \u001b[0;34m\u001b[0m\u001b[0m\n",
      "\u001b[0;31mIndexError\u001b[0m: index 0 is out of bounds for axis 0 with size 0"
     ]
    }
   ],
   "source": [
    "test_path = test_sol.p[0].T\n",
    "t = np.linspace(*tspan, len(test_path.T))\n",
    "\n",
    "fig, axs = plt.subplots(ncols=2, nrows=2, sharex=True)\n",
    "\n",
    "axs[0,0].plot(t, test_path[0]);\n",
    "axs[0,1].plot(t, test_path[1]);\n",
    "\n",
    "test_path_t = torch.from_numpy(test_path.T).to(dtype=torch.float)\n",
    "lat_var = model.encoder(test_path_t).detach().numpy()\n",
    "axs[1,0].plot(t, lat_var);\n",
    "axs[1,1].plot(t, slow_map(test_path))\n",
    "\n",
    "fig.tight_layout()\n",
    "plt.show(fig)"
   ]
  },
  {
   "cell_type": "code",
   "execution_count": null,
   "metadata": {},
   "outputs": [],
   "source": []
  },
  {
   "cell_type": "code",
   "execution_count": null,
   "metadata": {},
   "outputs": [],
   "source": []
  },
  {
   "cell_type": "code",
   "execution_count": null,
   "metadata": {},
   "outputs": [],
   "source": []
  },
  {
   "cell_type": "code",
   "execution_count": 99,
   "metadata": {},
   "outputs": [],
   "source": [
    "train_data = train_ds.data\n",
    "Y = model(train_data)[1].detach().numpy()\n",
    "train_data_np= train_data.detach().numpy()\n",
    "train_means = np.mean(train_data_np, axis=0)\n",
    "train_stds = np.std(train_data_np, axis=0)"
   ]
  },
  {
   "cell_type": "code",
   "execution_count": 100,
   "metadata": {},
   "outputs": [
    {
     "data": {
      "text/html": [
       "<div>\n",
       "<style scoped>\n",
       "    .dataframe tbody tr th:only-of-type {\n",
       "        vertical-align: middle;\n",
       "    }\n",
       "\n",
       "    .dataframe tbody tr th {\n",
       "        vertical-align: top;\n",
       "    }\n",
       "\n",
       "    .dataframe thead th {\n",
       "        text-align: right;\n",
       "    }\n",
       "</style>\n",
       "<table border=\"1\" class=\"dataframe\">\n",
       "  <thead>\n",
       "    <tr style=\"text-align: right;\">\n",
       "      <th></th>\n",
       "      <th>x^1</th>\n",
       "      <th>y^1</th>\n",
       "      <th>log(x)</th>\n",
       "    </tr>\n",
       "  </thead>\n",
       "  <tbody>\n",
       "    <tr>\n",
       "      <th>0</th>\n",
       "      <td>-0.961983</td>\n",
       "      <td>-0.236718</td>\n",
       "      <td>0.711978</td>\n",
       "    </tr>\n",
       "    <tr>\n",
       "      <th>1</th>\n",
       "      <td>0.818180</td>\n",
       "      <td>0.605251</td>\n",
       "      <td>1.339774</td>\n",
       "    </tr>\n",
       "    <tr>\n",
       "      <th>2</th>\n",
       "      <td>-0.268234</td>\n",
       "      <td>0.190552</td>\n",
       "      <td>1.004948</td>\n",
       "    </tr>\n",
       "    <tr>\n",
       "      <th>3</th>\n",
       "      <td>1.224008</td>\n",
       "      <td>0.750810</td>\n",
       "      <td>1.440784</td>\n",
       "    </tr>\n",
       "    <tr>\n",
       "      <th>4</th>\n",
       "      <td>1.455687</td>\n",
       "      <td>0.988548</td>\n",
       "      <td>1.494181</td>\n",
       "    </tr>\n",
       "  </tbody>\n",
       "</table>\n",
       "</div>"
      ],
      "text/plain": [
       "        x^1       y^1    log(x)\n",
       "0 -0.961983 -0.236718  0.711978\n",
       "1  0.818180  0.605251  1.339774\n",
       "2 -0.268234  0.190552  1.004948\n",
       "3  1.224008  0.750810  1.440784\n",
       "4  1.455687  0.988548  1.494181"
      ]
     },
     "execution_count": 100,
     "metadata": {},
     "output_type": "execute_result"
    }
   ],
   "source": [
    "max_deg = 1\n",
    "powers = [\n",
    "    (p1, p2)\n",
    "    for p2 in range(max_deg+1) for p1 in range(max_deg+1)\n",
    "    if p1 + p2 > 0 and p1 + p2 <= max_deg\n",
    "]\n",
    "basis = [\n",
    "    f\"x^{p1}\" if p2==0 else (f\"y^{p2}\" if p1== 0 else f\"x^{p1}y^{p2}\")\n",
    "    for p1, p2 in powers\n",
    "]\n",
    "\n",
    "x, y = train_data.T\n",
    "X = np.zeros((len(powers)+1, len(train_data)))\n",
    "for idx, (n, m) in enumerate(powers):\n",
    "    X[idx] = x**n * y**m\n",
    "X[-1] = np.log(x + 3)\n",
    "basis.append(\"log(x)\")\n",
    "X = pd.DataFrame(X.T, columns=basis)\n",
    "X.head()"
   ]
  },
  {
   "cell_type": "code",
   "execution_count": 101,
   "metadata": {},
   "outputs": [
    {
     "data": {
      "text/html": [
       "<div>\n",
       "<style scoped>\n",
       "    .dataframe tbody tr th:only-of-type {\n",
       "        vertical-align: middle;\n",
       "    }\n",
       "\n",
       "    .dataframe tbody tr th {\n",
       "        vertical-align: top;\n",
       "    }\n",
       "\n",
       "    .dataframe thead th {\n",
       "        text-align: right;\n",
       "    }\n",
       "</style>\n",
       "<table border=\"1\" class=\"dataframe\">\n",
       "  <thead>\n",
       "    <tr style=\"text-align: right;\">\n",
       "      <th></th>\n",
       "      <th>0.001</th>\n",
       "      <th>0.002</th>\n",
       "      <th>0.003</th>\n",
       "      <th>0.004</th>\n",
       "      <th>0.005</th>\n",
       "      <th>0.006</th>\n",
       "      <th>0.007</th>\n",
       "      <th>0.008</th>\n",
       "      <th>0.009</th>\n",
       "      <th>0.010</th>\n",
       "      <th>...</th>\n",
       "      <th>0.090</th>\n",
       "      <th>0.091</th>\n",
       "      <th>0.092</th>\n",
       "      <th>0.093</th>\n",
       "      <th>0.094</th>\n",
       "      <th>0.095</th>\n",
       "      <th>0.096</th>\n",
       "      <th>0.097</th>\n",
       "      <th>0.098</th>\n",
       "      <th>0.099</th>\n",
       "    </tr>\n",
       "  </thead>\n",
       "  <tbody>\n",
       "    <tr>\n",
       "      <th>x^1</th>\n",
       "      <td>0.279367</td>\n",
       "      <td>0.308775</td>\n",
       "      <td>0.308220</td>\n",
       "      <td>0.307659</td>\n",
       "      <td>0.307096</td>\n",
       "      <td>0.306533</td>\n",
       "      <td>0.305970</td>\n",
       "      <td>0.305407</td>\n",
       "      <td>0.304844</td>\n",
       "      <td>0.304280</td>\n",
       "      <td>...</td>\n",
       "      <td>0.259243</td>\n",
       "      <td>0.258680</td>\n",
       "      <td>0.258116</td>\n",
       "      <td>0.257553</td>\n",
       "      <td>0.256990</td>\n",
       "      <td>0.256427</td>\n",
       "      <td>0.255863</td>\n",
       "      <td>0.255300</td>\n",
       "      <td>0.254737</td>\n",
       "      <td>0.254173</td>\n",
       "    </tr>\n",
       "    <tr>\n",
       "      <th>y^1</th>\n",
       "      <td>0.113922</td>\n",
       "      <td>0.117927</td>\n",
       "      <td>0.117379</td>\n",
       "      <td>0.116837</td>\n",
       "      <td>0.116296</td>\n",
       "      <td>0.115755</td>\n",
       "      <td>0.115215</td>\n",
       "      <td>0.114674</td>\n",
       "      <td>0.114134</td>\n",
       "      <td>0.113593</td>\n",
       "      <td>...</td>\n",
       "      <td>0.070328</td>\n",
       "      <td>0.069787</td>\n",
       "      <td>0.069246</td>\n",
       "      <td>0.068706</td>\n",
       "      <td>0.068165</td>\n",
       "      <td>0.067625</td>\n",
       "      <td>0.067084</td>\n",
       "      <td>0.066544</td>\n",
       "      <td>0.066003</td>\n",
       "      <td>0.065463</td>\n",
       "    </tr>\n",
       "    <tr>\n",
       "      <th>log(x)</th>\n",
       "      <td>0.088964</td>\n",
       "      <td>0.000000</td>\n",
       "      <td>0.000000</td>\n",
       "      <td>0.000000</td>\n",
       "      <td>0.000000</td>\n",
       "      <td>0.000000</td>\n",
       "      <td>0.000000</td>\n",
       "      <td>0.000000</td>\n",
       "      <td>0.000000</td>\n",
       "      <td>0.000000</td>\n",
       "      <td>...</td>\n",
       "      <td>0.000000</td>\n",
       "      <td>0.000000</td>\n",
       "      <td>0.000000</td>\n",
       "      <td>0.000000</td>\n",
       "      <td>0.000000</td>\n",
       "      <td>0.000000</td>\n",
       "      <td>0.000000</td>\n",
       "      <td>0.000000</td>\n",
       "      <td>0.000000</td>\n",
       "      <td>0.000000</td>\n",
       "    </tr>\n",
       "    <tr>\n",
       "      <th>train_score</th>\n",
       "      <td>0.997929</td>\n",
       "      <td>0.997027</td>\n",
       "      <td>0.996995</td>\n",
       "      <td>0.996949</td>\n",
       "      <td>0.996891</td>\n",
       "      <td>0.996819</td>\n",
       "      <td>0.996735</td>\n",
       "      <td>0.996637</td>\n",
       "      <td>0.996526</td>\n",
       "      <td>0.996403</td>\n",
       "      <td>...</td>\n",
       "      <td>0.944289</td>\n",
       "      <td>0.943110</td>\n",
       "      <td>0.941917</td>\n",
       "      <td>0.940712</td>\n",
       "      <td>0.939494</td>\n",
       "      <td>0.938262</td>\n",
       "      <td>0.937018</td>\n",
       "      <td>0.935761</td>\n",
       "      <td>0.934490</td>\n",
       "      <td>0.933207</td>\n",
       "    </tr>\n",
       "    <tr>\n",
       "      <th>test_score</th>\n",
       "      <td>0.997803</td>\n",
       "      <td>0.996724</td>\n",
       "      <td>0.996653</td>\n",
       "      <td>0.996569</td>\n",
       "      <td>0.996472</td>\n",
       "      <td>0.996362</td>\n",
       "      <td>0.996239</td>\n",
       "      <td>0.996104</td>\n",
       "      <td>0.995956</td>\n",
       "      <td>0.995795</td>\n",
       "      <td>...</td>\n",
       "      <td>0.941571</td>\n",
       "      <td>0.940377</td>\n",
       "      <td>0.939169</td>\n",
       "      <td>0.937949</td>\n",
       "      <td>0.936715</td>\n",
       "      <td>0.935470</td>\n",
       "      <td>0.934211</td>\n",
       "      <td>0.932939</td>\n",
       "      <td>0.931655</td>\n",
       "      <td>0.930358</td>\n",
       "    </tr>\n",
       "  </tbody>\n",
       "</table>\n",
       "<p>5 rows × 99 columns</p>\n",
       "</div>"
      ],
      "text/plain": [
       "                0.001     0.002     0.003     0.004     0.005     0.006  \\\n",
       "x^1          0.279367  0.308775  0.308220  0.307659  0.307096  0.306533   \n",
       "y^1          0.113922  0.117927  0.117379  0.116837  0.116296  0.115755   \n",
       "log(x)       0.088964  0.000000  0.000000  0.000000  0.000000  0.000000   \n",
       "train_score  0.997929  0.997027  0.996995  0.996949  0.996891  0.996819   \n",
       "test_score   0.997803  0.996724  0.996653  0.996569  0.996472  0.996362   \n",
       "\n",
       "                0.007     0.008     0.009     0.010  ...     0.090     0.091  \\\n",
       "x^1          0.305970  0.305407  0.304844  0.304280  ...  0.259243  0.258680   \n",
       "y^1          0.115215  0.114674  0.114134  0.113593  ...  0.070328  0.069787   \n",
       "log(x)       0.000000  0.000000  0.000000  0.000000  ...  0.000000  0.000000   \n",
       "train_score  0.996735  0.996637  0.996526  0.996403  ...  0.944289  0.943110   \n",
       "test_score   0.996239  0.996104  0.995956  0.995795  ...  0.941571  0.940377   \n",
       "\n",
       "                0.092     0.093     0.094     0.095     0.096     0.097  \\\n",
       "x^1          0.258116  0.257553  0.256990  0.256427  0.255863  0.255300   \n",
       "y^1          0.069246  0.068706  0.068165  0.067625  0.067084  0.066544   \n",
       "log(x)       0.000000  0.000000  0.000000  0.000000  0.000000  0.000000   \n",
       "train_score  0.941917  0.940712  0.939494  0.938262  0.937018  0.935761   \n",
       "test_score   0.939169  0.937949  0.936715  0.935470  0.934211  0.932939   \n",
       "\n",
       "                0.098     0.099  \n",
       "x^1          0.254737  0.254173  \n",
       "y^1          0.066003  0.065463  \n",
       "log(x)       0.000000  0.000000  \n",
       "train_score  0.934490  0.933207  \n",
       "test_score   0.931655  0.930358  \n",
       "\n",
       "[5 rows x 99 columns]"
      ]
     },
     "execution_count": 101,
     "metadata": {},
     "output_type": "execute_result"
    }
   ],
   "source": [
    "alpha_list = np.arange(0.001, 0.1, 0.001)\n",
    "results = dmaps.lasso_adm(X, Y, alpha_list, rng)\n",
    "results"
   ]
  },
  {
   "cell_type": "code",
   "execution_count": 102,
   "metadata": {},
   "outputs": [
    {
     "data": {
      "text/html": [
       "<div>\n",
       "<style scoped>\n",
       "    .dataframe tbody tr th:only-of-type {\n",
       "        vertical-align: middle;\n",
       "    }\n",
       "\n",
       "    .dataframe tbody tr th {\n",
       "        vertical-align: top;\n",
       "    }\n",
       "\n",
       "    .dataframe thead th {\n",
       "        text-align: right;\n",
       "    }\n",
       "</style>\n",
       "<table border=\"1\" class=\"dataframe\">\n",
       "  <thead>\n",
       "    <tr style=\"text-align: right;\">\n",
       "      <th></th>\n",
       "      <th>x^1</th>\n",
       "      <th>y^1</th>\n",
       "      <th>log(x)</th>\n",
       "    </tr>\n",
       "  </thead>\n",
       "  <tbody>\n",
       "    <tr>\n",
       "      <th>count</th>\n",
       "      <td>2.680000e+03</td>\n",
       "      <td>2.680000e+03</td>\n",
       "      <td>2680.000000</td>\n",
       "    </tr>\n",
       "    <tr>\n",
       "      <th>mean</th>\n",
       "      <td>1.533547e-07</td>\n",
       "      <td>5.153673e-07</td>\n",
       "      <td>1.030370</td>\n",
       "    </tr>\n",
       "    <tr>\n",
       "      <th>std</th>\n",
       "      <td>1.000187e+00</td>\n",
       "      <td>1.000187e+00</td>\n",
       "      <td>0.392422</td>\n",
       "    </tr>\n",
       "    <tr>\n",
       "      <th>min</th>\n",
       "      <td>-2.265648e+00</td>\n",
       "      <td>-2.953966e+00</td>\n",
       "      <td>-0.308766</td>\n",
       "    </tr>\n",
       "    <tr>\n",
       "      <th>25%</th>\n",
       "      <td>-7.950016e-01</td>\n",
       "      <td>-6.401453e-01</td>\n",
       "      <td>0.790727</td>\n",
       "    </tr>\n",
       "    <tr>\n",
       "      <th>50%</th>\n",
       "      <td>1.009066e-01</td>\n",
       "      <td>1.791369e-01</td>\n",
       "      <td>1.131694</td>\n",
       "    </tr>\n",
       "    <tr>\n",
       "      <th>75%</th>\n",
       "      <td>8.726342e-01</td>\n",
       "      <td>7.508699e-01</td>\n",
       "      <td>1.353935</td>\n",
       "    </tr>\n",
       "    <tr>\n",
       "      <th>max</th>\n",
       "      <td>1.804869e+00</td>\n",
       "      <td>2.201757e+00</td>\n",
       "      <td>1.569630</td>\n",
       "    </tr>\n",
       "  </tbody>\n",
       "</table>\n",
       "</div>"
      ],
      "text/plain": [
       "                x^1           y^1       log(x)\n",
       "count  2.680000e+03  2.680000e+03  2680.000000\n",
       "mean   1.533547e-07  5.153673e-07     1.030370\n",
       "std    1.000187e+00  1.000187e+00     0.392422\n",
       "min   -2.265648e+00 -2.953966e+00    -0.308766\n",
       "25%   -7.950016e-01 -6.401453e-01     0.790727\n",
       "50%    1.009066e-01  1.791369e-01     1.131694\n",
       "75%    8.726342e-01  7.508699e-01     1.353935\n",
       "max    1.804869e+00  2.201757e+00     1.569630"
      ]
     },
     "execution_count": 102,
     "metadata": {},
     "output_type": "execute_result"
    }
   ],
   "source": [
    "X.describe()"
   ]
  },
  {
   "cell_type": "code",
   "execution_count": null,
   "metadata": {},
   "outputs": [],
   "source": []
  }
 ],
 "metadata": {
  "kernelspec": {
   "display_name": "Python 3",
   "language": "python",
   "name": "python3"
  },
  "language_info": {
   "codemirror_mode": {
    "name": "ipython",
    "version": 3
   },
   "file_extension": ".py",
   "mimetype": "text/x-python",
   "name": "python",
   "nbconvert_exporter": "python",
   "pygments_lexer": "ipython3",
   "version": "3.8.6"
  }
 },
 "nbformat": 4,
 "nbformat_minor": 4
}
